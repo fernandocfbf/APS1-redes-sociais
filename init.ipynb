{
 "cells": [
  {
   "cell_type": "markdown",
   "id": "b0b14677",
   "metadata": {},
   "source": [
    "## Redes sociais - APS(1)\n",
    "Fernando Fincatti, Gabriela Moreno e Beatriz Bernardino\n",
    "\n",
    "---"
   ]
  },
  {
   "cell_type": "markdown",
   "id": "6620f50a",
   "metadata": {},
   "source": [
    "### Import libraries\n",
    "---"
   ]
  },
  {
   "cell_type": "code",
   "execution_count": 39,
   "id": "18f4d9a4",
   "metadata": {},
   "outputs": [],
   "source": [
    "import pandas as pd\n",
    "import csv\n",
    "from graph_tool import Graph\n",
    "import os"
   ]
  },
  {
   "cell_type": "markdown",
   "id": "b4c85c19",
   "metadata": {},
   "source": [
    "### Auxiliary functions\n",
    "---"
   ]
  },
  {
   "cell_type": "code",
   "execution_count": 40,
   "id": "ab852cf1",
   "metadata": {},
   "outputs": [],
   "source": [
    "def filter_by_year(path, year):\n",
    "    \"\"\"\n",
    "        Receives the path for the dataset (csv) and the year that must be filter\n",
    "        Return a list containing all the data to the desired year.\n",
    "    \"\"\"\n",
    "    \n",
    "    response = [] #list grouping all rows\n",
    "    with open(path) as file:\n",
    "        reader = csv.reader(file, delimiter=',', quotechar='\"')\n",
    "        i = 0;\n",
    "        for row in reader:\n",
    "            if i != 0: #jumps the header\n",
    "                match_year = str(row[3]).split('/')[2] #get match year\n",
    "                if match_year == year:\n",
    "                    response.append(row)\n",
    "            i += 1\n",
    "        \n",
    "    return response\n",
    "            "
   ]
  },
  {
   "cell_type": "markdown",
   "id": "1da248c3",
   "metadata": {},
   "source": [
    "### Analysing the dataset\n",
    "---"
   ]
  },
  {
   "cell_type": "code",
   "execution_count": 41,
   "id": "35057fb1",
   "metadata": {},
   "outputs": [],
   "source": [
    "df = pd.read_csv(r'./ATP Dataset_2012-01 to 2017-07_Int.csv')"
   ]
  },
  {
   "cell_type": "code",
   "execution_count": 42,
   "id": "a8d86771",
   "metadata": {
    "scrolled": true
   },
   "outputs": [
    {
     "data": {
      "text/html": [
       "<div>\n",
       "<style scoped>\n",
       "    .dataframe tbody tr th:only-of-type {\n",
       "        vertical-align: middle;\n",
       "    }\n",
       "\n",
       "    .dataframe tbody tr th {\n",
       "        vertical-align: top;\n",
       "    }\n",
       "\n",
       "    .dataframe thead th {\n",
       "        text-align: right;\n",
       "    }\n",
       "</style>\n",
       "<table border=\"1\" class=\"dataframe\">\n",
       "  <thead>\n",
       "    <tr style=\"text-align: right;\">\n",
       "      <th></th>\n",
       "      <th>ATP</th>\n",
       "      <th>Tournament</th>\n",
       "      <th>Tournament_Int</th>\n",
       "      <th>Date</th>\n",
       "      <th>Series</th>\n",
       "      <th>Series_Int</th>\n",
       "      <th>Court</th>\n",
       "      <th>Court_Int</th>\n",
       "      <th>Surface</th>\n",
       "      <th>Surface_Int</th>\n",
       "      <th>...</th>\n",
       "      <th>Winner</th>\n",
       "      <th>Winner_Int</th>\n",
       "      <th>Player1</th>\n",
       "      <th>Player1_Int</th>\n",
       "      <th>Player2</th>\n",
       "      <th>Player2_Int</th>\n",
       "      <th>Player1_Rank</th>\n",
       "      <th>Player2_Rank</th>\n",
       "      <th>Player1_Odds</th>\n",
       "      <th>Player2_Odds</th>\n",
       "    </tr>\n",
       "  </thead>\n",
       "  <tbody>\n",
       "    <tr>\n",
       "      <th>0</th>\n",
       "      <td>1</td>\n",
       "      <td>BrisbaneInternational</td>\n",
       "      <td>1.2757</td>\n",
       "      <td>1/1/17</td>\n",
       "      <td>ATP250</td>\n",
       "      <td>2.9693</td>\n",
       "      <td>Outdoor</td>\n",
       "      <td>3.6494</td>\n",
       "      <td>Hard</td>\n",
       "      <td>4.4983</td>\n",
       "      <td>...</td>\n",
       "      <td>ThompsonJ.</td>\n",
       "      <td>6.7926</td>\n",
       "      <td>ThompsonJ.</td>\n",
       "      <td>6.7926</td>\n",
       "      <td>YmerE.</td>\n",
       "      <td>6.0375</td>\n",
       "      <td>79.0</td>\n",
       "      <td>160.0</td>\n",
       "      <td>1.29</td>\n",
       "      <td>3.50</td>\n",
       "    </tr>\n",
       "    <tr>\n",
       "      <th>1</th>\n",
       "      <td>1</td>\n",
       "      <td>BrisbaneInternational</td>\n",
       "      <td>1.2757</td>\n",
       "      <td>1/2/17</td>\n",
       "      <td>ATP250</td>\n",
       "      <td>2.9693</td>\n",
       "      <td>Outdoor</td>\n",
       "      <td>3.6494</td>\n",
       "      <td>Hard</td>\n",
       "      <td>4.4983</td>\n",
       "      <td>...</td>\n",
       "      <td>MahutN.</td>\n",
       "      <td>6.9297</td>\n",
       "      <td>MahutN.</td>\n",
       "      <td>6.9297</td>\n",
       "      <td>RobertS.</td>\n",
       "      <td>6.9152</td>\n",
       "      <td>39.0</td>\n",
       "      <td>54.0</td>\n",
       "      <td>1.54</td>\n",
       "      <td>2.43</td>\n",
       "    </tr>\n",
       "    <tr>\n",
       "      <th>2</th>\n",
       "      <td>1</td>\n",
       "      <td>BrisbaneInternational</td>\n",
       "      <td>1.2757</td>\n",
       "      <td>1/2/17</td>\n",
       "      <td>ATP250</td>\n",
       "      <td>2.9693</td>\n",
       "      <td>Outdoor</td>\n",
       "      <td>3.6494</td>\n",
       "      <td>Hard</td>\n",
       "      <td>4.4983</td>\n",
       "      <td>...</td>\n",
       "      <td>FerrerD.</td>\n",
       "      <td>6.3881</td>\n",
       "      <td>FerrerD.</td>\n",
       "      <td>6.3881</td>\n",
       "      <td>TomicB.</td>\n",
       "      <td>6.6345</td>\n",
       "      <td>21.0</td>\n",
       "      <td>26.0</td>\n",
       "      <td>2.01</td>\n",
       "      <td>1.77</td>\n",
       "    </tr>\n",
       "    <tr>\n",
       "      <th>3</th>\n",
       "      <td>1</td>\n",
       "      <td>BrisbaneInternational</td>\n",
       "      <td>1.2757</td>\n",
       "      <td>1/2/17</td>\n",
       "      <td>ATP250</td>\n",
       "      <td>2.9693</td>\n",
       "      <td>Outdoor</td>\n",
       "      <td>3.6494</td>\n",
       "      <td>Hard</td>\n",
       "      <td>4.4983</td>\n",
       "      <td>...</td>\n",
       "      <td>EdmundK.</td>\n",
       "      <td>6.8384</td>\n",
       "      <td>EdmundK.</td>\n",
       "      <td>6.8384</td>\n",
       "      <td>EscobedoE.</td>\n",
       "      <td>6.1645</td>\n",
       "      <td>45.0</td>\n",
       "      <td>141.0</td>\n",
       "      <td>1.37</td>\n",
       "      <td>3.01</td>\n",
       "    </tr>\n",
       "    <tr>\n",
       "      <th>4</th>\n",
       "      <td>1</td>\n",
       "      <td>BrisbaneInternational</td>\n",
       "      <td>1.2757</td>\n",
       "      <td>1/2/17</td>\n",
       "      <td>ATP250</td>\n",
       "      <td>2.9693</td>\n",
       "      <td>Outdoor</td>\n",
       "      <td>3.6494</td>\n",
       "      <td>Hard</td>\n",
       "      <td>4.4983</td>\n",
       "      <td>...</td>\n",
       "      <td>DimitrovG.</td>\n",
       "      <td>6.5157</td>\n",
       "      <td>DimitrovG.</td>\n",
       "      <td>6.5157</td>\n",
       "      <td>JohnsonS.</td>\n",
       "      <td>6.1087</td>\n",
       "      <td>17.0</td>\n",
       "      <td>33.0</td>\n",
       "      <td>1.41</td>\n",
       "      <td>2.85</td>\n",
       "    </tr>\n",
       "  </tbody>\n",
       "</table>\n",
       "<p>5 rows × 23 columns</p>\n",
       "</div>"
      ],
      "text/plain": [
       "   ATP             Tournament  Tournament_Int    Date  Series  Series_Int  \\\n",
       "0    1  BrisbaneInternational          1.2757  1/1/17  ATP250      2.9693   \n",
       "1    1  BrisbaneInternational          1.2757  1/2/17  ATP250      2.9693   \n",
       "2    1  BrisbaneInternational          1.2757  1/2/17  ATP250      2.9693   \n",
       "3    1  BrisbaneInternational          1.2757  1/2/17  ATP250      2.9693   \n",
       "4    1  BrisbaneInternational          1.2757  1/2/17  ATP250      2.9693   \n",
       "\n",
       "     Court  Court_Int Surface  Surface_Int  ...      Winner  Winner_Int  \\\n",
       "0  Outdoor     3.6494    Hard       4.4983  ...  ThompsonJ.      6.7926   \n",
       "1  Outdoor     3.6494    Hard       4.4983  ...     MahutN.      6.9297   \n",
       "2  Outdoor     3.6494    Hard       4.4983  ...    FerrerD.      6.3881   \n",
       "3  Outdoor     3.6494    Hard       4.4983  ...    EdmundK.      6.8384   \n",
       "4  Outdoor     3.6494    Hard       4.4983  ...  DimitrovG.      6.5157   \n",
       "\n",
       "      Player1 Player1_Int     Player2 Player2_Int  Player1_Rank Player2_Rank  \\\n",
       "0  ThompsonJ.      6.7926      YmerE.      6.0375          79.0        160.0   \n",
       "1     MahutN.      6.9297    RobertS.      6.9152          39.0         54.0   \n",
       "2    FerrerD.      6.3881     TomicB.      6.6345          21.0         26.0   \n",
       "3    EdmundK.      6.8384  EscobedoE.      6.1645          45.0        141.0   \n",
       "4  DimitrovG.      6.5157   JohnsonS.      6.1087          17.0         33.0   \n",
       "\n",
       "   Player1_Odds  Player2_Odds  \n",
       "0          1.29          3.50  \n",
       "1          1.54          2.43  \n",
       "2          2.01          1.77  \n",
       "3          1.37          3.01  \n",
       "4          1.41          2.85  \n",
       "\n",
       "[5 rows x 23 columns]"
      ]
     },
     "execution_count": 42,
     "metadata": {},
     "output_type": "execute_result"
    }
   ],
   "source": [
    "df.head()"
   ]
  },
  {
   "cell_type": "code",
   "execution_count": 43,
   "id": "c030bb0f",
   "metadata": {
    "scrolled": true
   },
   "outputs": [
    {
     "data": {
      "text/html": [
       "<div>\n",
       "<style scoped>\n",
       "    .dataframe tbody tr th:only-of-type {\n",
       "        vertical-align: middle;\n",
       "    }\n",
       "\n",
       "    .dataframe tbody tr th {\n",
       "        vertical-align: top;\n",
       "    }\n",
       "\n",
       "    .dataframe thead th {\n",
       "        text-align: right;\n",
       "    }\n",
       "</style>\n",
       "<table border=\"1\" class=\"dataframe\">\n",
       "  <thead>\n",
       "    <tr style=\"text-align: right;\">\n",
       "      <th></th>\n",
       "      <th>ATP</th>\n",
       "      <th>Tournament_Int</th>\n",
       "      <th>Series_Int</th>\n",
       "      <th>Court_Int</th>\n",
       "      <th>Surface_Int</th>\n",
       "      <th>Round_Int</th>\n",
       "      <th>Best_of</th>\n",
       "      <th>Winner_Int</th>\n",
       "      <th>Player1_Int</th>\n",
       "      <th>Player2_Int</th>\n",
       "      <th>Player1_Rank</th>\n",
       "      <th>Player2_Rank</th>\n",
       "      <th>Player1_Odds</th>\n",
       "      <th>Player2_Odds</th>\n",
       "    </tr>\n",
       "  </thead>\n",
       "  <tbody>\n",
       "    <tr>\n",
       "      <th>count</th>\n",
       "      <td>14746.000000</td>\n",
       "      <td>14746.000000</td>\n",
       "      <td>14746.000000</td>\n",
       "      <td>14746.000000</td>\n",
       "      <td>14746.000000</td>\n",
       "      <td>14746.000000</td>\n",
       "      <td>14746.000000</td>\n",
       "      <td>14746.000000</td>\n",
       "      <td>14746.000000</td>\n",
       "      <td>14746.000000</td>\n",
       "      <td>14740.000000</td>\n",
       "      <td>14714.000000</td>\n",
       "      <td>14735.000000</td>\n",
       "      <td>14735.000000</td>\n",
       "    </tr>\n",
       "    <tr>\n",
       "      <th>mean</th>\n",
       "      <td>31.636240</td>\n",
       "      <td>1.482631</td>\n",
       "      <td>2.765566</td>\n",
       "      <td>3.583026</td>\n",
       "      <td>4.424294</td>\n",
       "      <td>5.239293</td>\n",
       "      <td>3.395361</td>\n",
       "      <td>6.516963</td>\n",
       "      <td>6.516963</td>\n",
       "      <td>6.520327</td>\n",
       "      <td>55.303189</td>\n",
       "      <td>88.492728</td>\n",
       "      <td>1.832519</td>\n",
       "      <td>3.705629</td>\n",
       "    </tr>\n",
       "    <tr>\n",
       "      <th>std</th>\n",
       "      <td>17.643054</td>\n",
       "      <td>0.285657</td>\n",
       "      <td>0.288073</td>\n",
       "      <td>0.146906</td>\n",
       "      <td>0.255291</td>\n",
       "      <td>0.180624</td>\n",
       "      <td>0.796527</td>\n",
       "      <td>0.287258</td>\n",
       "      <td>0.287258</td>\n",
       "      <td>0.295260</td>\n",
       "      <td>71.680632</td>\n",
       "      <td>127.036584</td>\n",
       "      <td>1.171306</td>\n",
       "      <td>3.417485</td>\n",
       "    </tr>\n",
       "    <tr>\n",
       "      <th>min</th>\n",
       "      <td>1.000000</td>\n",
       "      <td>1.007100</td>\n",
       "      <td>2.257400</td>\n",
       "      <td>3.257900</td>\n",
       "      <td>4.112900</td>\n",
       "      <td>5.125700</td>\n",
       "      <td>3.000000</td>\n",
       "      <td>6.009000</td>\n",
       "      <td>6.009000</td>\n",
       "      <td>6.000300</td>\n",
       "      <td>1.000000</td>\n",
       "      <td>1.000000</td>\n",
       "      <td>1.010000</td>\n",
       "      <td>1.010000</td>\n",
       "    </tr>\n",
       "    <tr>\n",
       "      <th>25%</th>\n",
       "      <td>19.000000</td>\n",
       "      <td>1.240800</td>\n",
       "      <td>2.648600</td>\n",
       "      <td>3.649400</td>\n",
       "      <td>4.112900</td>\n",
       "      <td>5.125700</td>\n",
       "      <td>3.000000</td>\n",
       "      <td>6.253700</td>\n",
       "      <td>6.253700</td>\n",
       "      <td>6.256000</td>\n",
       "      <td>15.000000</td>\n",
       "      <td>33.000000</td>\n",
       "      <td>1.220000</td>\n",
       "      <td>1.750000</td>\n",
       "    </tr>\n",
       "    <tr>\n",
       "      <th>50%</th>\n",
       "      <td>32.000000</td>\n",
       "      <td>1.432800</td>\n",
       "      <td>2.969300</td>\n",
       "      <td>3.649400</td>\n",
       "      <td>4.498300</td>\n",
       "      <td>5.135100</td>\n",
       "      <td>3.000000</td>\n",
       "      <td>6.496500</td>\n",
       "      <td>6.496500</td>\n",
       "      <td>6.509200</td>\n",
       "      <td>38.000000</td>\n",
       "      <td>62.000000</td>\n",
       "      <td>1.480000</td>\n",
       "      <td>2.600000</td>\n",
       "    </tr>\n",
       "    <tr>\n",
       "      <th>75%</th>\n",
       "      <td>47.000000</td>\n",
       "      <td>1.752900</td>\n",
       "      <td>2.969300</td>\n",
       "      <td>3.649400</td>\n",
       "      <td>4.498300</td>\n",
       "      <td>5.251100</td>\n",
       "      <td>3.000000</td>\n",
       "      <td>6.776300</td>\n",
       "      <td>6.776300</td>\n",
       "      <td>6.803300</td>\n",
       "      <td>72.000000</td>\n",
       "      <td>100.000000</td>\n",
       "      <td>2.040000</td>\n",
       "      <td>4.130000</td>\n",
       "    </tr>\n",
       "    <tr>\n",
       "      <th>max</th>\n",
       "      <td>66.000000</td>\n",
       "      <td>1.982000</td>\n",
       "      <td>2.970900</td>\n",
       "      <td>3.649400</td>\n",
       "      <td>4.919400</td>\n",
       "      <td>5.954200</td>\n",
       "      <td>5.000000</td>\n",
       "      <td>6.999700</td>\n",
       "      <td>6.999700</td>\n",
       "      <td>6.997200</td>\n",
       "      <td>1184.000000</td>\n",
       "      <td>7380.000000</td>\n",
       "      <td>23.450000</td>\n",
       "      <td>36.440000</td>\n",
       "    </tr>\n",
       "  </tbody>\n",
       "</table>\n",
       "</div>"
      ],
      "text/plain": [
       "                ATP  Tournament_Int    Series_Int     Court_Int   Surface_Int  \\\n",
       "count  14746.000000    14746.000000  14746.000000  14746.000000  14746.000000   \n",
       "mean      31.636240        1.482631      2.765566      3.583026      4.424294   \n",
       "std       17.643054        0.285657      0.288073      0.146906      0.255291   \n",
       "min        1.000000        1.007100      2.257400      3.257900      4.112900   \n",
       "25%       19.000000        1.240800      2.648600      3.649400      4.112900   \n",
       "50%       32.000000        1.432800      2.969300      3.649400      4.498300   \n",
       "75%       47.000000        1.752900      2.969300      3.649400      4.498300   \n",
       "max       66.000000        1.982000      2.970900      3.649400      4.919400   \n",
       "\n",
       "          Round_Int       Best_of    Winner_Int   Player1_Int   Player2_Int  \\\n",
       "count  14746.000000  14746.000000  14746.000000  14746.000000  14746.000000   \n",
       "mean       5.239293      3.395361      6.516963      6.516963      6.520327   \n",
       "std        0.180624      0.796527      0.287258      0.287258      0.295260   \n",
       "min        5.125700      3.000000      6.009000      6.009000      6.000300   \n",
       "25%        5.125700      3.000000      6.253700      6.253700      6.256000   \n",
       "50%        5.135100      3.000000      6.496500      6.496500      6.509200   \n",
       "75%        5.251100      3.000000      6.776300      6.776300      6.803300   \n",
       "max        5.954200      5.000000      6.999700      6.999700      6.997200   \n",
       "\n",
       "       Player1_Rank  Player2_Rank  Player1_Odds  Player2_Odds  \n",
       "count  14740.000000  14714.000000  14735.000000  14735.000000  \n",
       "mean      55.303189     88.492728      1.832519      3.705629  \n",
       "std       71.680632    127.036584      1.171306      3.417485  \n",
       "min        1.000000      1.000000      1.010000      1.010000  \n",
       "25%       15.000000     33.000000      1.220000      1.750000  \n",
       "50%       38.000000     62.000000      1.480000      2.600000  \n",
       "75%       72.000000    100.000000      2.040000      4.130000  \n",
       "max     1184.000000   7380.000000     23.450000     36.440000  "
      ]
     },
     "execution_count": 43,
     "metadata": {},
     "output_type": "execute_result"
    }
   ],
   "source": [
    "df.describe()"
   ]
  },
  {
   "cell_type": "code",
   "execution_count": 44,
   "id": "2fa99d58",
   "metadata": {},
   "outputs": [
    {
     "name": "stdout",
     "output_type": "stream",
     "text": [
      "<class 'pandas.core.frame.DataFrame'>\n",
      "RangeIndex: 14746 entries, 0 to 14745\n",
      "Data columns (total 23 columns):\n",
      " #   Column          Non-Null Count  Dtype  \n",
      "---  ------          --------------  -----  \n",
      " 0   ATP             14746 non-null  int64  \n",
      " 1   Tournament      14746 non-null  object \n",
      " 2   Tournament_Int  14746 non-null  float64\n",
      " 3   Date            14746 non-null  object \n",
      " 4   Series          14746 non-null  object \n",
      " 5   Series_Int      14746 non-null  float64\n",
      " 6   Court           14746 non-null  object \n",
      " 7   Court_Int       14746 non-null  float64\n",
      " 8   Surface         14746 non-null  object \n",
      " 9   Surface_Int     14746 non-null  float64\n",
      " 10  Round           14746 non-null  object \n",
      " 11  Round_Int       14746 non-null  float64\n",
      " 12  Best_of         14746 non-null  int64  \n",
      " 13  Winner          14746 non-null  object \n",
      " 14  Winner_Int      14746 non-null  float64\n",
      " 15  Player1         14746 non-null  object \n",
      " 16  Player1_Int     14746 non-null  float64\n",
      " 17  Player2         14746 non-null  object \n",
      " 18  Player2_Int     14746 non-null  float64\n",
      " 19  Player1_Rank    14740 non-null  float64\n",
      " 20  Player2_Rank    14714 non-null  float64\n",
      " 21  Player1_Odds    14735 non-null  float64\n",
      " 22  Player2_Odds    14735 non-null  float64\n",
      "dtypes: float64(12), int64(2), object(9)\n",
      "memory usage: 2.6+ MB\n"
     ]
    }
   ],
   "source": [
    "df.info()"
   ]
  },
  {
   "cell_type": "markdown",
   "id": "f973c03e",
   "metadata": {},
   "source": [
    "### Creating fork\n",
    "---"
   ]
  },
  {
   "cell_type": "markdown",
   "id": "efd5e3ba",
   "metadata": {},
   "source": [
    "### a. o grafo é dirigido;\n",
    "---"
   ]
  },
  {
   "cell_type": "code",
   "execution_count": 45,
   "id": "7b45e1a5",
   "metadata": {},
   "outputs": [],
   "source": [
    "g = Graph(directed=True) # directed fork"
   ]
  },
  {
   "cell_type": "markdown",
   "id": "019c260a",
   "metadata": {},
   "source": [
    "### b. os vértices são jogadores que disputaram partidas em 2015\n",
    "---"
   ]
  },
  {
   "cell_type": "code",
   "execution_count": 46,
   "id": "0a3ae31d",
   "metadata": {
    "scrolled": true
   },
   "outputs": [],
   "source": [
    "#filter data for 2015\n",
    "data_2015 = filter_by_year('./ATP Dataset_2012-01 to 2017-07_Int.csv', '15')"
   ]
  },
  {
   "cell_type": "code",
   "execution_count": 47,
   "id": "0a4b2eda",
   "metadata": {},
   "outputs": [
    {
     "data": {
      "text/plain": [
       "5260"
      ]
     },
     "execution_count": 47,
     "metadata": {},
     "output_type": "execute_result"
    }
   ],
   "source": [
    "jogadores = []\n",
    "for listas in data_2015:\n",
    "    jogadores.append(listas[15])\n",
    "    jogadores.append(listas[17])\n",
    "len(jogadores)"
   ]
  },
  {
   "cell_type": "code",
   "execution_count": 48,
   "id": "391661ba",
   "metadata": {},
   "outputs": [
    {
     "data": {
      "text/plain": [
       "284"
      ]
     },
     "execution_count": 48,
     "metadata": {},
     "output_type": "execute_result"
    }
   ],
   "source": [
    "jogadores = list(dict.fromkeys(jogadores))\n",
    "len(jogadores)"
   ]
  },
  {
   "cell_type": "code",
   "execution_count": 49,
   "id": "cc1709d4",
   "metadata": {},
   "outputs": [
    {
     "name": "stdout",
     "output_type": "stream",
     "text": [
      "número de vértices de g: 284\n"
     ]
    }
   ],
   "source": [
    "for _ in jogadores:\n",
    "    g.add_vertex()\n",
    "\n",
    "print('número de vértices de g:', g.num_vertices())"
   ]
  },
  {
   "cell_type": "markdown",
   "id": "6e4feb33",
   "metadata": {},
   "source": [
    "### c. Cada vértice deve ter um atributo que representa o nome do jogador;\n",
    "---"
   ]
  },
  {
   "cell_type": "code",
   "execution_count": 50,
   "id": "ac318ef5",
   "metadata": {},
   "outputs": [],
   "source": [
    "g.vp['nome'] = g.new_vp('object')"
   ]
  },
  {
   "cell_type": "code",
   "execution_count": 53,
   "id": "590fd5ef",
   "metadata": {},
   "outputs": [],
   "source": [
    "for indice in range(len(jogadores)):\n",
    "    v = g.vertex(indice)\n",
    "    g.vp['nome'][v] = jogadores[indice]\n",
    "    #print(g.vp['nome'][v])"
   ]
  },
  {
   "cell_type": "markdown",
   "id": "6e766fe1",
   "metadata": {},
   "source": [
    "### d. Uma aresta (n,m) existe se n venceu m uma ou mais vezes em 2015;\n",
    "---"
   ]
  },
  {
   "cell_type": "code",
   "execution_count": null,
   "id": "c1287d27",
   "metadata": {},
   "outputs": [],
   "source": []
  }
 ],
 "metadata": {
  "kernelspec": {
   "display_name": "Python 3 (ipykernel)",
   "language": "python",
   "name": "python3"
  },
  "language_info": {
   "codemirror_mode": {
    "name": "ipython",
    "version": 3
   },
   "file_extension": ".py",
   "mimetype": "text/x-python",
   "name": "python",
   "nbconvert_exporter": "python",
   "pygments_lexer": "ipython3",
   "version": "3.7.11"
  }
 },
 "nbformat": 4,
 "nbformat_minor": 5
}

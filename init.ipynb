{
 "cells": [
  {
   "cell_type": "markdown",
   "id": "b0b14677",
   "metadata": {},
   "source": [
    "## Redes sociais - APS(1)\n",
    "Fernando Fincatti, Gabriela Moreno e Beatriz Bernardino\n",
    "\n",
    "---"
   ]
  },
  {
   "cell_type": "markdown",
   "id": "6620f50a",
   "metadata": {},
   "source": [
    "### Import libraries\n",
    "---"
   ]
  },
  {
   "cell_type": "code",
   "execution_count": 1,
   "id": "18f4d9a4",
   "metadata": {},
   "outputs": [
    {
     "data": {
      "text/html": [
       "\n",
       "    <script src=\"/files/netpixi.min.js\"></script>\n"
      ],
      "text/plain": [
       "<IPython.core.display.HTML object>"
      ]
     },
     "metadata": {},
     "output_type": "display_data"
    }
   ],
   "source": [
    "import pandas as pd\n",
    "import csv\n",
    "from graph_tool import Graph\n",
    "import os\n",
    "from graph_tool import util\n",
    "from netpixi.data.gt import *\n",
    "import netpixi"
   ]
  },
  {
   "cell_type": "markdown",
   "id": "b4c85c19",
   "metadata": {},
   "source": [
    "### Auxiliary functions\n",
    "---"
   ]
  },
  {
   "cell_type": "code",
   "execution_count": 2,
   "id": "ab852cf1",
   "metadata": {},
   "outputs": [],
   "source": [
    "def filter_by_year(path, year):\n",
    "    \"\"\"\n",
    "        Receives the path for the dataset (csv) and the year that must be filter\n",
    "        Return a list containing all the data to the desired year.\n",
    "    \"\"\"\n",
    "    \n",
    "    response = [] #list grouping all rows\n",
    "    with open(path) as file:\n",
    "        reader = csv.reader(file, delimiter=',', quotechar='\"')\n",
    "        i = 0;\n",
    "        for row in reader:\n",
    "            if i != 0: #jumps the header\n",
    "                match_year = str(row[3]).split('/')[2] #get match year\n",
    "                if match_year == year:\n",
    "                    response.append(row)\n",
    "            i += 1\n",
    "        \n",
    "    return response    "
   ]
  },
  {
   "cell_type": "code",
   "execution_count": 3,
   "id": "fe14af2c",
   "metadata": {},
   "outputs": [],
   "source": [
    "def create_player_list(data):\n",
    "    \"\"\"\n",
    "    Receives a list with all data\n",
    "    Return a list with all unique players names\n",
    "    \"\"\"\n",
    "    \n",
    "    jogadores = []\n",
    "    for listas in data_2015:\n",
    "        jogadores.append(listas[15])\n",
    "        jogadores.append(listas[17])\n",
    "    \n",
    "    #eliminate duplicate players\n",
    "    jogadores = list(dict.fromkeys(jogadores))\n",
    "    return jogadores"
   ]
  },
  {
   "cell_type": "code",
   "execution_count": 4,
   "id": "97086c46",
   "metadata": {},
   "outputs": [],
   "source": [
    "def edges_list(data):\n",
    "    \"\"\"\n",
    "    Receives a list with all data\n",
    "    Return a list with all edgs and dict with match ocurrency\n",
    "    \"\"\"\n",
    "    \n",
    "    lista_vencedor_perdedor=[] #list to store all edgs\n",
    "    dict_vencedor_perdedor = {} #dict to store occurecy\n",
    "    for valores in data:\n",
    "        lista=[]\n",
    "        lista.append(valores[13]) #add winner to list\n",
    "        if valores[13] == valores[15]:\n",
    "            lista.append(valores[17])\n",
    "        else:\n",
    "            lista.append(valores[15])\n",
    "        chave = valores[15]+\"_\"+valores[17] #dict key to identify players match\n",
    "        if chave in dict_vencedor_perdedor:\n",
    "            dict_vencedor_perdedor[chave] += 1 #increment match occurency\n",
    "        else:\n",
    "            dict_vencedor_perdedor[chave] = 1\n",
    "            lista_vencedor_perdedor.append(lista)\n",
    "    return lista_vencedor_perdedor, dict_vencedor_perdedor"
   ]
  },
  {
   "cell_type": "code",
   "execution_count": 5,
   "id": "66fa1792",
   "metadata": {},
   "outputs": [],
   "source": [
    "def create_edgs_links(v_p_list, v_p_dict, g):\n",
    "    \"\"\"\n",
    "    Receives a list with sublists [winner, looser], a dictionary with the match occurency and the fork\n",
    "    Create the edges and its proprieties\n",
    "    \"\"\"\n",
    "    \n",
    "    indice = 0\n",
    "    for dupla in v_p_list:\n",
    "        vencedor = dupla[0]\n",
    "        perdedor = dupla[1]\n",
    "        \n",
    "        str_index_vencedor = util.find_vertex(g,g.vp['nome'],vencedor) \n",
    "        index_vencedor = int(str(str_index_vencedor).split(\" \")[4].replace(\"'\",\"\")) #get winner index\n",
    "        \n",
    "        str_index_perdedor = util.find_vertex(g,g.vp['nome'],perdedor) \n",
    "        index_perdedor = int(str(str_index_perdedor).split(\" \")[4].replace(\"'\",\"\")) #get looser index\n",
    "        \n",
    "        g.add_edge(index_vencedor, index_perdedor) #add edge to fork\n",
    "        \n",
    "        e = g.edge(index_vencedor, index_perdedor) #get the correct edge\n",
    "        g.ep['vitorias'][e] = v_p_dict[vencedor+'_'+perdedor]\n",
    "        indice+=1"
   ]
  },
  {
   "cell_type": "markdown",
   "id": "1da248c3",
   "metadata": {},
   "source": [
    "### Analysing the dataset\n",
    "---"
   ]
  },
  {
   "cell_type": "code",
   "execution_count": 6,
   "id": "35057fb1",
   "metadata": {},
   "outputs": [],
   "source": [
    "df = pd.read_csv(r'./ATP Dataset_2012-01 to 2017-07_Int.csv')"
   ]
  },
  {
   "cell_type": "code",
   "execution_count": 7,
   "id": "a8d86771",
   "metadata": {
    "scrolled": true
   },
   "outputs": [
    {
     "data": {
      "text/html": [
       "<div>\n",
       "<style scoped>\n",
       "    .dataframe tbody tr th:only-of-type {\n",
       "        vertical-align: middle;\n",
       "    }\n",
       "\n",
       "    .dataframe tbody tr th {\n",
       "        vertical-align: top;\n",
       "    }\n",
       "\n",
       "    .dataframe thead th {\n",
       "        text-align: right;\n",
       "    }\n",
       "</style>\n",
       "<table border=\"1\" class=\"dataframe\">\n",
       "  <thead>\n",
       "    <tr style=\"text-align: right;\">\n",
       "      <th></th>\n",
       "      <th>ATP</th>\n",
       "      <th>Tournament</th>\n",
       "      <th>Tournament_Int</th>\n",
       "      <th>Date</th>\n",
       "      <th>Series</th>\n",
       "      <th>Series_Int</th>\n",
       "      <th>Court</th>\n",
       "      <th>Court_Int</th>\n",
       "      <th>Surface</th>\n",
       "      <th>Surface_Int</th>\n",
       "      <th>...</th>\n",
       "      <th>Winner</th>\n",
       "      <th>Winner_Int</th>\n",
       "      <th>Player1</th>\n",
       "      <th>Player1_Int</th>\n",
       "      <th>Player2</th>\n",
       "      <th>Player2_Int</th>\n",
       "      <th>Player1_Rank</th>\n",
       "      <th>Player2_Rank</th>\n",
       "      <th>Player1_Odds</th>\n",
       "      <th>Player2_Odds</th>\n",
       "    </tr>\n",
       "  </thead>\n",
       "  <tbody>\n",
       "    <tr>\n",
       "      <th>0</th>\n",
       "      <td>1</td>\n",
       "      <td>BrisbaneInternational</td>\n",
       "      <td>1.2757</td>\n",
       "      <td>1/1/17</td>\n",
       "      <td>ATP250</td>\n",
       "      <td>2.9693</td>\n",
       "      <td>Outdoor</td>\n",
       "      <td>3.6494</td>\n",
       "      <td>Hard</td>\n",
       "      <td>4.4983</td>\n",
       "      <td>...</td>\n",
       "      <td>ThompsonJ.</td>\n",
       "      <td>6.7926</td>\n",
       "      <td>ThompsonJ.</td>\n",
       "      <td>6.7926</td>\n",
       "      <td>YmerE.</td>\n",
       "      <td>6.0375</td>\n",
       "      <td>79.0</td>\n",
       "      <td>160.0</td>\n",
       "      <td>1.29</td>\n",
       "      <td>3.50</td>\n",
       "    </tr>\n",
       "    <tr>\n",
       "      <th>1</th>\n",
       "      <td>1</td>\n",
       "      <td>BrisbaneInternational</td>\n",
       "      <td>1.2757</td>\n",
       "      <td>1/2/17</td>\n",
       "      <td>ATP250</td>\n",
       "      <td>2.9693</td>\n",
       "      <td>Outdoor</td>\n",
       "      <td>3.6494</td>\n",
       "      <td>Hard</td>\n",
       "      <td>4.4983</td>\n",
       "      <td>...</td>\n",
       "      <td>MahutN.</td>\n",
       "      <td>6.9297</td>\n",
       "      <td>MahutN.</td>\n",
       "      <td>6.9297</td>\n",
       "      <td>RobertS.</td>\n",
       "      <td>6.9152</td>\n",
       "      <td>39.0</td>\n",
       "      <td>54.0</td>\n",
       "      <td>1.54</td>\n",
       "      <td>2.43</td>\n",
       "    </tr>\n",
       "    <tr>\n",
       "      <th>2</th>\n",
       "      <td>1</td>\n",
       "      <td>BrisbaneInternational</td>\n",
       "      <td>1.2757</td>\n",
       "      <td>1/2/17</td>\n",
       "      <td>ATP250</td>\n",
       "      <td>2.9693</td>\n",
       "      <td>Outdoor</td>\n",
       "      <td>3.6494</td>\n",
       "      <td>Hard</td>\n",
       "      <td>4.4983</td>\n",
       "      <td>...</td>\n",
       "      <td>FerrerD.</td>\n",
       "      <td>6.3881</td>\n",
       "      <td>FerrerD.</td>\n",
       "      <td>6.3881</td>\n",
       "      <td>TomicB.</td>\n",
       "      <td>6.6345</td>\n",
       "      <td>21.0</td>\n",
       "      <td>26.0</td>\n",
       "      <td>2.01</td>\n",
       "      <td>1.77</td>\n",
       "    </tr>\n",
       "    <tr>\n",
       "      <th>3</th>\n",
       "      <td>1</td>\n",
       "      <td>BrisbaneInternational</td>\n",
       "      <td>1.2757</td>\n",
       "      <td>1/2/17</td>\n",
       "      <td>ATP250</td>\n",
       "      <td>2.9693</td>\n",
       "      <td>Outdoor</td>\n",
       "      <td>3.6494</td>\n",
       "      <td>Hard</td>\n",
       "      <td>4.4983</td>\n",
       "      <td>...</td>\n",
       "      <td>EdmundK.</td>\n",
       "      <td>6.8384</td>\n",
       "      <td>EdmundK.</td>\n",
       "      <td>6.8384</td>\n",
       "      <td>EscobedoE.</td>\n",
       "      <td>6.1645</td>\n",
       "      <td>45.0</td>\n",
       "      <td>141.0</td>\n",
       "      <td>1.37</td>\n",
       "      <td>3.01</td>\n",
       "    </tr>\n",
       "    <tr>\n",
       "      <th>4</th>\n",
       "      <td>1</td>\n",
       "      <td>BrisbaneInternational</td>\n",
       "      <td>1.2757</td>\n",
       "      <td>1/2/17</td>\n",
       "      <td>ATP250</td>\n",
       "      <td>2.9693</td>\n",
       "      <td>Outdoor</td>\n",
       "      <td>3.6494</td>\n",
       "      <td>Hard</td>\n",
       "      <td>4.4983</td>\n",
       "      <td>...</td>\n",
       "      <td>DimitrovG.</td>\n",
       "      <td>6.5157</td>\n",
       "      <td>DimitrovG.</td>\n",
       "      <td>6.5157</td>\n",
       "      <td>JohnsonS.</td>\n",
       "      <td>6.1087</td>\n",
       "      <td>17.0</td>\n",
       "      <td>33.0</td>\n",
       "      <td>1.41</td>\n",
       "      <td>2.85</td>\n",
       "    </tr>\n",
       "  </tbody>\n",
       "</table>\n",
       "<p>5 rows × 23 columns</p>\n",
       "</div>"
      ],
      "text/plain": [
       "   ATP             Tournament  Tournament_Int    Date  Series  Series_Int  \\\n",
       "0    1  BrisbaneInternational          1.2757  1/1/17  ATP250      2.9693   \n",
       "1    1  BrisbaneInternational          1.2757  1/2/17  ATP250      2.9693   \n",
       "2    1  BrisbaneInternational          1.2757  1/2/17  ATP250      2.9693   \n",
       "3    1  BrisbaneInternational          1.2757  1/2/17  ATP250      2.9693   \n",
       "4    1  BrisbaneInternational          1.2757  1/2/17  ATP250      2.9693   \n",
       "\n",
       "     Court  Court_Int Surface  Surface_Int  ...      Winner  Winner_Int  \\\n",
       "0  Outdoor     3.6494    Hard       4.4983  ...  ThompsonJ.      6.7926   \n",
       "1  Outdoor     3.6494    Hard       4.4983  ...     MahutN.      6.9297   \n",
       "2  Outdoor     3.6494    Hard       4.4983  ...    FerrerD.      6.3881   \n",
       "3  Outdoor     3.6494    Hard       4.4983  ...    EdmundK.      6.8384   \n",
       "4  Outdoor     3.6494    Hard       4.4983  ...  DimitrovG.      6.5157   \n",
       "\n",
       "      Player1 Player1_Int     Player2 Player2_Int  Player1_Rank Player2_Rank  \\\n",
       "0  ThompsonJ.      6.7926      YmerE.      6.0375          79.0        160.0   \n",
       "1     MahutN.      6.9297    RobertS.      6.9152          39.0         54.0   \n",
       "2    FerrerD.      6.3881     TomicB.      6.6345          21.0         26.0   \n",
       "3    EdmundK.      6.8384  EscobedoE.      6.1645          45.0        141.0   \n",
       "4  DimitrovG.      6.5157   JohnsonS.      6.1087          17.0         33.0   \n",
       "\n",
       "   Player1_Odds  Player2_Odds  \n",
       "0          1.29          3.50  \n",
       "1          1.54          2.43  \n",
       "2          2.01          1.77  \n",
       "3          1.37          3.01  \n",
       "4          1.41          2.85  \n",
       "\n",
       "[5 rows x 23 columns]"
      ]
     },
     "execution_count": 7,
     "metadata": {},
     "output_type": "execute_result"
    }
   ],
   "source": [
    "df.head()"
   ]
  },
  {
   "cell_type": "code",
   "execution_count": 8,
   "id": "c030bb0f",
   "metadata": {
    "scrolled": true
   },
   "outputs": [
    {
     "data": {
      "text/html": [
       "<div>\n",
       "<style scoped>\n",
       "    .dataframe tbody tr th:only-of-type {\n",
       "        vertical-align: middle;\n",
       "    }\n",
       "\n",
       "    .dataframe tbody tr th {\n",
       "        vertical-align: top;\n",
       "    }\n",
       "\n",
       "    .dataframe thead th {\n",
       "        text-align: right;\n",
       "    }\n",
       "</style>\n",
       "<table border=\"1\" class=\"dataframe\">\n",
       "  <thead>\n",
       "    <tr style=\"text-align: right;\">\n",
       "      <th></th>\n",
       "      <th>ATP</th>\n",
       "      <th>Tournament_Int</th>\n",
       "      <th>Series_Int</th>\n",
       "      <th>Court_Int</th>\n",
       "      <th>Surface_Int</th>\n",
       "      <th>Round_Int</th>\n",
       "      <th>Best_of</th>\n",
       "      <th>Winner_Int</th>\n",
       "      <th>Player1_Int</th>\n",
       "      <th>Player2_Int</th>\n",
       "      <th>Player1_Rank</th>\n",
       "      <th>Player2_Rank</th>\n",
       "      <th>Player1_Odds</th>\n",
       "      <th>Player2_Odds</th>\n",
       "    </tr>\n",
       "  </thead>\n",
       "  <tbody>\n",
       "    <tr>\n",
       "      <th>count</th>\n",
       "      <td>14746.000000</td>\n",
       "      <td>14746.000000</td>\n",
       "      <td>14746.000000</td>\n",
       "      <td>14746.000000</td>\n",
       "      <td>14746.000000</td>\n",
       "      <td>14746.000000</td>\n",
       "      <td>14746.000000</td>\n",
       "      <td>14746.000000</td>\n",
       "      <td>14746.000000</td>\n",
       "      <td>14746.000000</td>\n",
       "      <td>14740.000000</td>\n",
       "      <td>14714.000000</td>\n",
       "      <td>14735.000000</td>\n",
       "      <td>14735.000000</td>\n",
       "    </tr>\n",
       "    <tr>\n",
       "      <th>mean</th>\n",
       "      <td>31.636240</td>\n",
       "      <td>1.482631</td>\n",
       "      <td>2.765566</td>\n",
       "      <td>3.583026</td>\n",
       "      <td>4.424294</td>\n",
       "      <td>5.239293</td>\n",
       "      <td>3.395361</td>\n",
       "      <td>6.516963</td>\n",
       "      <td>6.516963</td>\n",
       "      <td>6.520327</td>\n",
       "      <td>55.303189</td>\n",
       "      <td>88.492728</td>\n",
       "      <td>1.832519</td>\n",
       "      <td>3.705629</td>\n",
       "    </tr>\n",
       "    <tr>\n",
       "      <th>std</th>\n",
       "      <td>17.643054</td>\n",
       "      <td>0.285657</td>\n",
       "      <td>0.288073</td>\n",
       "      <td>0.146906</td>\n",
       "      <td>0.255291</td>\n",
       "      <td>0.180624</td>\n",
       "      <td>0.796527</td>\n",
       "      <td>0.287258</td>\n",
       "      <td>0.287258</td>\n",
       "      <td>0.295260</td>\n",
       "      <td>71.680632</td>\n",
       "      <td>127.036584</td>\n",
       "      <td>1.171306</td>\n",
       "      <td>3.417485</td>\n",
       "    </tr>\n",
       "    <tr>\n",
       "      <th>min</th>\n",
       "      <td>1.000000</td>\n",
       "      <td>1.007100</td>\n",
       "      <td>2.257400</td>\n",
       "      <td>3.257900</td>\n",
       "      <td>4.112900</td>\n",
       "      <td>5.125700</td>\n",
       "      <td>3.000000</td>\n",
       "      <td>6.009000</td>\n",
       "      <td>6.009000</td>\n",
       "      <td>6.000300</td>\n",
       "      <td>1.000000</td>\n",
       "      <td>1.000000</td>\n",
       "      <td>1.010000</td>\n",
       "      <td>1.010000</td>\n",
       "    </tr>\n",
       "    <tr>\n",
       "      <th>25%</th>\n",
       "      <td>19.000000</td>\n",
       "      <td>1.240800</td>\n",
       "      <td>2.648600</td>\n",
       "      <td>3.649400</td>\n",
       "      <td>4.112900</td>\n",
       "      <td>5.125700</td>\n",
       "      <td>3.000000</td>\n",
       "      <td>6.253700</td>\n",
       "      <td>6.253700</td>\n",
       "      <td>6.256000</td>\n",
       "      <td>15.000000</td>\n",
       "      <td>33.000000</td>\n",
       "      <td>1.220000</td>\n",
       "      <td>1.750000</td>\n",
       "    </tr>\n",
       "    <tr>\n",
       "      <th>50%</th>\n",
       "      <td>32.000000</td>\n",
       "      <td>1.432800</td>\n",
       "      <td>2.969300</td>\n",
       "      <td>3.649400</td>\n",
       "      <td>4.498300</td>\n",
       "      <td>5.135100</td>\n",
       "      <td>3.000000</td>\n",
       "      <td>6.496500</td>\n",
       "      <td>6.496500</td>\n",
       "      <td>6.509200</td>\n",
       "      <td>38.000000</td>\n",
       "      <td>62.000000</td>\n",
       "      <td>1.480000</td>\n",
       "      <td>2.600000</td>\n",
       "    </tr>\n",
       "    <tr>\n",
       "      <th>75%</th>\n",
       "      <td>47.000000</td>\n",
       "      <td>1.752900</td>\n",
       "      <td>2.969300</td>\n",
       "      <td>3.649400</td>\n",
       "      <td>4.498300</td>\n",
       "      <td>5.251100</td>\n",
       "      <td>3.000000</td>\n",
       "      <td>6.776300</td>\n",
       "      <td>6.776300</td>\n",
       "      <td>6.803300</td>\n",
       "      <td>72.000000</td>\n",
       "      <td>100.000000</td>\n",
       "      <td>2.040000</td>\n",
       "      <td>4.130000</td>\n",
       "    </tr>\n",
       "    <tr>\n",
       "      <th>max</th>\n",
       "      <td>66.000000</td>\n",
       "      <td>1.982000</td>\n",
       "      <td>2.970900</td>\n",
       "      <td>3.649400</td>\n",
       "      <td>4.919400</td>\n",
       "      <td>5.954200</td>\n",
       "      <td>5.000000</td>\n",
       "      <td>6.999700</td>\n",
       "      <td>6.999700</td>\n",
       "      <td>6.997200</td>\n",
       "      <td>1184.000000</td>\n",
       "      <td>7380.000000</td>\n",
       "      <td>23.450000</td>\n",
       "      <td>36.440000</td>\n",
       "    </tr>\n",
       "  </tbody>\n",
       "</table>\n",
       "</div>"
      ],
      "text/plain": [
       "                ATP  Tournament_Int    Series_Int     Court_Int   Surface_Int  \\\n",
       "count  14746.000000    14746.000000  14746.000000  14746.000000  14746.000000   \n",
       "mean      31.636240        1.482631      2.765566      3.583026      4.424294   \n",
       "std       17.643054        0.285657      0.288073      0.146906      0.255291   \n",
       "min        1.000000        1.007100      2.257400      3.257900      4.112900   \n",
       "25%       19.000000        1.240800      2.648600      3.649400      4.112900   \n",
       "50%       32.000000        1.432800      2.969300      3.649400      4.498300   \n",
       "75%       47.000000        1.752900      2.969300      3.649400      4.498300   \n",
       "max       66.000000        1.982000      2.970900      3.649400      4.919400   \n",
       "\n",
       "          Round_Int       Best_of    Winner_Int   Player1_Int   Player2_Int  \\\n",
       "count  14746.000000  14746.000000  14746.000000  14746.000000  14746.000000   \n",
       "mean       5.239293      3.395361      6.516963      6.516963      6.520327   \n",
       "std        0.180624      0.796527      0.287258      0.287258      0.295260   \n",
       "min        5.125700      3.000000      6.009000      6.009000      6.000300   \n",
       "25%        5.125700      3.000000      6.253700      6.253700      6.256000   \n",
       "50%        5.135100      3.000000      6.496500      6.496500      6.509200   \n",
       "75%        5.251100      3.000000      6.776300      6.776300      6.803300   \n",
       "max        5.954200      5.000000      6.999700      6.999700      6.997200   \n",
       "\n",
       "       Player1_Rank  Player2_Rank  Player1_Odds  Player2_Odds  \n",
       "count  14740.000000  14714.000000  14735.000000  14735.000000  \n",
       "mean      55.303189     88.492728      1.832519      3.705629  \n",
       "std       71.680632    127.036584      1.171306      3.417485  \n",
       "min        1.000000      1.000000      1.010000      1.010000  \n",
       "25%       15.000000     33.000000      1.220000      1.750000  \n",
       "50%       38.000000     62.000000      1.480000      2.600000  \n",
       "75%       72.000000    100.000000      2.040000      4.130000  \n",
       "max     1184.000000   7380.000000     23.450000     36.440000  "
      ]
     },
     "execution_count": 8,
     "metadata": {},
     "output_type": "execute_result"
    }
   ],
   "source": [
    "df.describe()"
   ]
  },
  {
   "cell_type": "code",
   "execution_count": 9,
   "id": "2fa99d58",
   "metadata": {},
   "outputs": [
    {
     "name": "stdout",
     "output_type": "stream",
     "text": [
      "<class 'pandas.core.frame.DataFrame'>\n",
      "RangeIndex: 14746 entries, 0 to 14745\n",
      "Data columns (total 23 columns):\n",
      " #   Column          Non-Null Count  Dtype  \n",
      "---  ------          --------------  -----  \n",
      " 0   ATP             14746 non-null  int64  \n",
      " 1   Tournament      14746 non-null  object \n",
      " 2   Tournament_Int  14746 non-null  float64\n",
      " 3   Date            14746 non-null  object \n",
      " 4   Series          14746 non-null  object \n",
      " 5   Series_Int      14746 non-null  float64\n",
      " 6   Court           14746 non-null  object \n",
      " 7   Court_Int       14746 non-null  float64\n",
      " 8   Surface         14746 non-null  object \n",
      " 9   Surface_Int     14746 non-null  float64\n",
      " 10  Round           14746 non-null  object \n",
      " 11  Round_Int       14746 non-null  float64\n",
      " 12  Best_of         14746 non-null  int64  \n",
      " 13  Winner          14746 non-null  object \n",
      " 14  Winner_Int      14746 non-null  float64\n",
      " 15  Player1         14746 non-null  object \n",
      " 16  Player1_Int     14746 non-null  float64\n",
      " 17  Player2         14746 non-null  object \n",
      " 18  Player2_Int     14746 non-null  float64\n",
      " 19  Player1_Rank    14740 non-null  float64\n",
      " 20  Player2_Rank    14714 non-null  float64\n",
      " 21  Player1_Odds    14735 non-null  float64\n",
      " 22  Player2_Odds    14735 non-null  float64\n",
      "dtypes: float64(12), int64(2), object(9)\n",
      "memory usage: 2.6+ MB\n"
     ]
    }
   ],
   "source": [
    "df.info()"
   ]
  },
  {
   "cell_type": "markdown",
   "id": "f973c03e",
   "metadata": {},
   "source": [
    "### Creating fork\n",
    "---"
   ]
  },
  {
   "cell_type": "markdown",
   "id": "efd5e3ba",
   "metadata": {},
   "source": [
    "### a. o grafo é dirigido;\n",
    "---"
   ]
  },
  {
   "cell_type": "code",
   "execution_count": 10,
   "id": "9e8efdbd",
   "metadata": {},
   "outputs": [],
   "source": [
    "g = Graph(directed=True) # directed fork"
   ]
  },
  {
   "cell_type": "markdown",
   "id": "cfb9abaa",
   "metadata": {},
   "source": [
    "### b. os vértices são jogadores que disputaram partidas em 2015\n",
    "---"
   ]
  },
  {
   "cell_type": "code",
   "execution_count": 11,
   "id": "0a3ae31d",
   "metadata": {
    "scrolled": true
   },
   "outputs": [],
   "source": [
    "#filter data for 2015\n",
    "data_2015 = filter_by_year('./ATP Dataset_2012-01 to 2017-07_Int.csv', '15')"
   ]
  },
  {
   "cell_type": "code",
   "execution_count": 12,
   "id": "2f68e3d9",
   "metadata": {},
   "outputs": [],
   "source": [
    "#players name list\n",
    "jogadores=create_player_list(data_2015)"
   ]
  },
  {
   "cell_type": "code",
   "execution_count": 13,
   "id": "cc1709d4",
   "metadata": {},
   "outputs": [
    {
     "name": "stdout",
     "output_type": "stream",
     "text": [
      "número de vértices de g: 284\n"
     ]
    }
   ],
   "source": [
    "for _ in jogadores:\n",
    "    g.add_vertex()\n",
    "\n",
    "print('número de vértices de g:', g.num_vertices())"
   ]
  },
  {
   "cell_type": "markdown",
   "id": "4c25fadb",
   "metadata": {},
   "source": [
    "### c. Cada vértice deve ter um atributo que representa o nome do jogador;\n",
    "---"
   ]
  },
  {
   "cell_type": "code",
   "execution_count": 14,
   "id": "ac318ef5",
   "metadata": {},
   "outputs": [],
   "source": [
    "g.vp['nome'] = g.new_vp('object')"
   ]
  },
  {
   "cell_type": "code",
   "execution_count": 15,
   "id": "b2eefca7",
   "metadata": {},
   "outputs": [],
   "source": [
    "for indice in range(len(jogadores)):\n",
    "    v = g.vertex(indice)\n",
    "    g.vp['nome'][v] = jogadores[indice]"
   ]
  },
  {
   "cell_type": "markdown",
   "id": "595c4ca3",
   "metadata": {},
   "source": [
    "### d. Uma aresta (n,m) existe se n venceu m uma ou mais vezes em 2015;\n",
    "---"
   ]
  },
  {
   "cell_type": "code",
   "execution_count": 16,
   "id": "10953a02",
   "metadata": {},
   "outputs": [],
   "source": [
    "venc_perd_list, venc_perd_dict = edges_list(data_2015) "
   ]
  },
  {
   "cell_type": "code",
   "execution_count": 17,
   "id": "cc7e0490",
   "metadata": {},
   "outputs": [],
   "source": [
    "# add proprieties to edgs\n",
    "g.ep['vitorias'] = g.new_ep('object')"
   ]
  },
  {
   "cell_type": "code",
   "execution_count": 18,
   "id": "dbf30b2e",
   "metadata": {},
   "outputs": [],
   "source": [
    "create_edgs_links(venc_perd_list, venc_perd_dict, g)"
   ]
  },
  {
   "cell_type": "code",
   "execution_count": 19,
   "id": "f8e286c4",
   "metadata": {
    "scrolled": false
   },
   "outputs": [],
   "source": [
    "save_gt(g, 'aps.net.gz')\n",
    "\n",
    "# r = netpixi.render('aps.net.gz')\n"
   ]
  },
  {
   "cell_type": "markdown",
   "id": "218bd2c1",
   "metadata": {},
   "source": [
    "### Data Analysis\n",
    "---"
   ]
  },
  {
   "cell_type": "markdown",
   "id": "ac48ff5a",
   "metadata": {},
   "source": [
    "### a. número de vértices, número de arestas, densidade;\n",
    "---"
   ]
  },
  {
   "cell_type": "code",
   "execution_count": 20,
   "id": "f01ba002",
   "metadata": {},
   "outputs": [
    {
     "data": {
      "text/plain": [
       "284"
      ]
     },
     "execution_count": 20,
     "metadata": {},
     "output_type": "execute_result"
    }
   ],
   "source": [
    "##número de vértices\n",
    "\n",
    "n = g.num_vertices()\n",
    "n"
   ]
  },
  {
   "cell_type": "code",
   "execution_count": 21,
   "id": "f5ca4523",
   "metadata": {},
   "outputs": [
    {
     "data": {
      "text/plain": [
       "2312"
      ]
     },
     "execution_count": 21,
     "metadata": {},
     "output_type": "execute_result"
    }
   ],
   "source": [
    "##número de arestas\n",
    "m = g.num_edges()\n",
    "m"
   ]
  },
  {
   "cell_type": "code",
   "execution_count": 22,
   "id": "b7345be9",
   "metadata": {},
   "outputs": [
    {
     "data": {
      "text/plain": [
       "0.02876623699795949"
      ]
     },
     "execution_count": 22,
     "metadata": {},
     "output_type": "execute_result"
    }
   ],
   "source": [
    "##densidade\n",
    "\n",
    "if g.is_directed():\n",
    "    max_edges = n * (n - 1)\n",
    "else:\n",
    "    max_edges = n * (n - 1) // 2\n",
    "\n",
    "d = m / max_edges\n",
    "d"
   ]
  },
  {
   "cell_type": "markdown",
   "id": "3d061752",
   "metadata": {},
   "source": [
    "###  Estatísticas e histogramas\n",
    "---"
   ]
  },
  {
   "cell_type": "code",
   "execution_count": 24,
   "id": "dc484a21",
   "metadata": {},
   "outputs": [
    {
     "data": {
      "text/html": [
       "<div>\n",
       "<style scoped>\n",
       "    .dataframe tbody tr th:only-of-type {\n",
       "        vertical-align: middle;\n",
       "    }\n",
       "\n",
       "    .dataframe tbody tr th {\n",
       "        vertical-align: top;\n",
       "    }\n",
       "\n",
       "    .dataframe thead th {\n",
       "        text-align: right;\n",
       "    }\n",
       "</style>\n",
       "<table border=\"1\" class=\"dataframe\">\n",
       "  <thead>\n",
       "    <tr style=\"text-align: right;\">\n",
       "      <th></th>\n",
       "      <th>nome</th>\n",
       "    </tr>\n",
       "  </thead>\n",
       "  <tbody>\n",
       "    <tr>\n",
       "      <th>0</th>\n",
       "      <td>DuckworthJ.</td>\n",
       "    </tr>\n",
       "    <tr>\n",
       "      <th>1</th>\n",
       "      <td>SimonG.</td>\n",
       "    </tr>\n",
       "    <tr>\n",
       "      <th>2</th>\n",
       "      <td>KokkinakisT.</td>\n",
       "    </tr>\n",
       "    <tr>\n",
       "      <th>3</th>\n",
       "      <td>BenneteauJ.</td>\n",
       "    </tr>\n",
       "    <tr>\n",
       "      <th>4</th>\n",
       "      <td>ChardyJ.</td>\n",
       "    </tr>\n",
       "    <tr>\n",
       "      <th>...</th>\n",
       "      <td>...</td>\n",
       "    </tr>\n",
       "    <tr>\n",
       "      <th>279</th>\n",
       "      <td>ZhangZh.</td>\n",
       "    </tr>\n",
       "    <tr>\n",
       "      <th>280</th>\n",
       "      <td>KaratsevA.</td>\n",
       "    </tr>\n",
       "    <tr>\n",
       "      <th>281</th>\n",
       "      <td>YmerM.</td>\n",
       "    </tr>\n",
       "    <tr>\n",
       "      <th>282</th>\n",
       "      <td>MiedlerL.</td>\n",
       "    </tr>\n",
       "    <tr>\n",
       "      <th>283</th>\n",
       "      <td>BrandsD.</td>\n",
       "    </tr>\n",
       "  </tbody>\n",
       "</table>\n",
       "<p>284 rows × 1 columns</p>\n",
       "</div>"
      ],
      "text/plain": [
       "             nome\n",
       "0     DuckworthJ.\n",
       "1         SimonG.\n",
       "2    KokkinakisT.\n",
       "3     BenneteauJ.\n",
       "4        ChardyJ.\n",
       "..            ...\n",
       "279      ZhangZh.\n",
       "280    KaratsevA.\n",
       "281        YmerM.\n",
       "282     MiedlerL.\n",
       "283      BrandsD.\n",
       "\n",
       "[284 rows x 1 columns]"
      ]
     },
     "execution_count": 24,
     "metadata": {},
     "output_type": "execute_result"
    }
   ],
   "source": [
    "import pandas as pd\n",
    "\n",
    "df = pd.DataFrame({k: list(v) for k, v in g.vp.items()})\n",
    "df"
   ]
  },
  {
   "cell_type": "markdown",
   "id": "6efca047",
   "metadata": {},
   "source": [
    "### b. In-degree"
   ]
  },
  {
   "cell_type": "code",
   "execution_count": 25,
   "id": "a86a6e2b",
   "metadata": {},
   "outputs": [],
   "source": [
    "in_degrees = []\n",
    "for v in g.vertices():\n",
    "    in_degrees.append(v.in_degree())\n"
   ]
  },
  {
   "cell_type": "code",
   "execution_count": 26,
   "id": "2aeac849",
   "metadata": {
    "scrolled": false
   },
   "outputs": [
    {
     "data": {
      "text/plain": [
       "count    284.000000\n",
       "mean       8.140845\n",
       "std        7.639947\n",
       "min        1.000000\n",
       "25%        1.000000\n",
       "50%        5.000000\n",
       "75%       14.000000\n",
       "max       25.000000\n",
       "Name: in_degree, dtype: float64"
      ]
     },
     "execution_count": 26,
     "metadata": {},
     "output_type": "execute_result"
    },
    {
     "data": {
      "image/png": "[encoded data removed]",
      "text/plain": [
       "<Figure size 432x288 with 1 Axes>"
      ]
     },
     "metadata": {
      "needs_background": "light"
     },
     "output_type": "display_data"
    }
   ],
   "source": [
    "df['in_degree'] = in_degrees\n",
    "df['in_degree'].hist(bins=range(n))\n",
    "df['in_degree'].describe()"
   ]
  },
  {
   "cell_type": "markdown",
   "id": "ffe0090a",
   "metadata": {},
   "source": [
    "### c. Out-degree"
   ]
  },
  {
   "cell_type": "code",
   "execution_count": 27,
   "id": "1d5d1fcb",
   "metadata": {},
   "outputs": [],
   "source": [
    "out_degrees = []\n",
    "for v in g.vertices():\n",
    "    out_degrees.append(v.out_degree())"
   ]
  },
  {
   "cell_type": "code",
   "execution_count": 28,
   "id": "8e34c175",
   "metadata": {},
   "outputs": [
    {
     "data": {
      "text/plain": [
       "count    284.000000\n",
       "mean       8.140845\n",
       "std       11.417606\n",
       "min        0.000000\n",
       "25%        0.000000\n",
       "50%        2.000000\n",
       "75%       13.250000\n",
       "max       47.000000\n",
       "Name: out_degree, dtype: float64"
      ]
     },
     "execution_count": 28,
     "metadata": {},
     "output_type": "execute_result"
    },
    {
     "data": {
      "image/png": "[encoded data removed]",
      "text/plain": [
       "<Figure size 432x288 with 1 Axes>"
      ]
     },
     "metadata": {
      "needs_background": "light"
     },
     "output_type": "display_data"
    }
   ],
   "source": [
    "df['out_degree'] = out_degrees\n",
    "df['out_degree'].hist(bins=range(n))\n",
    "df['out_degree'].describe()"
   ]
  },
  {
   "cell_type": "markdown",
   "id": "93fa7d6d",
   "metadata": {},
   "source": [
    "### d. Degree"
   ]
  },
  {
   "cell_type": "code",
   "execution_count": 29,
   "id": "c4164138",
   "metadata": {},
   "outputs": [],
   "source": [
    "degrees = []\n",
    "for indeg, outdeg in zip(in_degrees, out_degrees):\n",
    "    degrees.append(indeg + outdeg)"
   ]
  },
  {
   "cell_type": "code",
   "execution_count": 30,
   "id": "f45ddf4b",
   "metadata": {},
   "outputs": [
    {
     "data": {
      "text/plain": [
       "count    284.000000\n",
       "mean      16.281690\n",
       "std       17.911587\n",
       "min        1.000000\n",
       "25%        2.000000\n",
       "50%        6.500000\n",
       "75%       31.250000\n",
       "max       61.000000\n",
       "Name: degree, dtype: float64"
      ]
     },
     "execution_count": 30,
     "metadata": {},
     "output_type": "execute_result"
    },
    {
     "data": {
      "image/png": "[encoded data removed]",
      "text/plain": [
       "<Figure size 432x288 with 1 Axes>"
      ]
     },
     "metadata": {
      "needs_background": "light"
     },
     "output_type": "display_data"
    }
   ],
   "source": [
    "df['degree'] = degrees\n",
    "df['degree'].hist(bins=range(n))\n",
    "df['degree'].describe()"
   ]
  },
  {
   "cell_type": "code",
   "execution_count": null,
   "id": "da1d835e",
   "metadata": {},
   "outputs": [],
   "source": []
  },
  {
   "cell_type": "code",
   "execution_count": null,
   "id": "dda54074",
   "metadata": {},
   "outputs": [],
   "source": []
  }
 ],
 "metadata": {
  "kernelspec": {
   "display_name": "Python 3 (ipykernel)",
   "language": "python",
   "name": "python3"
  },
  "language_info": {
   "codemirror_mode": {
    "name": "ipython",
    "version": 3
   },
   "file_extension": ".py",
   "mimetype": "text/x-python",
   "name": "python",
   "nbconvert_exporter": "python",
   "pygments_lexer": "ipython3",
   "version": "3.7.11"
  }
 },
 "nbformat": 4,
 "nbformat_minor": 5
}

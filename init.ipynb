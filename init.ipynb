{
 "cells": [
  {
   "cell_type": "markdown",
   "id": "d398504f",
   "metadata": {},
   "source": [
    "# Redes sociais - APS (1) \n",
    "Fernando Fincatti, Gabriela Moreno e Beatriz Bernardino"
   ]
  },
  {
   "cell_type": "markdown",
   "id": "5836d9e6",
   "metadata": {},
   "source": [
    "### Importing libraries\n",
    "---"
   ]
  },
  {
   "cell_type": "code",
   "execution_count": 3,
   "id": "c40212d4",
   "metadata": {
    "scrolled": true
   },
   "outputs": [],
   "source": [
    "import csv\n",
    "from graph_tool import Graph"
   ]
  },
  {
   "cell_type": "markdown",
   "id": "5bbeccbd",
   "metadata": {},
   "source": [
    "### Creating fork\n",
    "---"
   ]
  },
  {
   "cell_type": "code",
   "execution_count": null,
   "id": "d3da0ca1",
   "metadata": {},
   "outputs": [],
   "source": []
  }
 ],
 "metadata": {
  "kernelspec": {
   "display_name": "Python 3",
   "language": "python",
   "name": "python3"
  },
  "language_info": {
   "codemirror_mode": {
    "name": "ipython",
    "version": 3
   },
   "file_extension": ".py",
   "mimetype": "text/x-python",
   "name": "python",
   "nbconvert_exporter": "python",
   "pygments_lexer": "ipython3",
   "version": "3.8.8"
  }
 },
 "nbformat": 4,
 "nbformat_minor": 5
}
